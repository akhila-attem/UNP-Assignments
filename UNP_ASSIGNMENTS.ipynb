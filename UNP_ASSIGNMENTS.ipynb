{
  "nbformat": 4,
  "nbformat_minor": 0,
  "metadata": {
    "colab": {
      "name": "UNP ASSIGNMENTS.ipynb",
      "provenance": [],
      "authorship_tag": "ABX9TyPNBUo3ghR2ZUpxgeKbPFL+",
      "include_colab_link": true
    },
    "kernelspec": {
      "name": "python3",
      "display_name": "Python 3"
    },
    "language_info": {
      "name": "python"
    }
  },
  "cells": [
    {
      "cell_type": "markdown",
      "metadata": {
        "id": "view-in-github",
        "colab_type": "text"
      },
      "source": [
        "<a href=\"https://colab.research.google.com/github/akhila-attem/UNP-Assignments/blob/main/UNP_ASSIGNMENTS.ipynb\" target=\"_parent\"><img src=\"https://colab.research.google.com/assets/colab-badge.svg\" alt=\"Open In Colab\"/></a>"
      ]
    },
    {
      "cell_type": "code",
      "execution_count": null,
      "metadata": {
        "id": "LOhHX3_J91xT"
      },
      "outputs": [],
      "source": [
        "#Assignments"
      ]
    }
  ]
}